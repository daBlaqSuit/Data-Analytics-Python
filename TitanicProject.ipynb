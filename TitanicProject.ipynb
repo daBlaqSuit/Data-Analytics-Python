{
 "cells": [
  {
   "cell_type": "code",
   "execution_count": 13,
   "metadata": {},
   "outputs": [
    {
     "name": "stdout",
     "output_type": "stream",
     "text": [
      "Final Project: Data Analysis\n",
      "The following are questions asked to do the data analysis.\n",
      "1. What is the total number of people on the titanic and how many of them survived and how many did not?\n",
      "2. How many that survived were female and how many that died were female.\n",
      "3. How many children were on the titanic, NB: you are a child if age < 17.\n",
      "4. How many children died that were on the ship.\n",
      "5. How many people had families with them.\n",
      "6. How many embarked at Cherbourg, Queenstown and Southampton.\n",
      "7. What is the ratio of female to male.\n",
      "8. What contributed to the survival of those who survived.\n",
      "9. Wat are the characteristics of those who survived, what did they have in common.\n",
      "10. How many were 1st, 2nd and 3rd class.\n",
      "11. Did the ticket class determine their survival.\n"
     ]
    }
   ],
   "source": [
    "print (\"Final Project: Data Analysis\")\n",
    "print (\"The following are questions asked to do the data analysis.\")\n",
    "print(\"1. What is the total number of people on the titanic and how many of them survived and how many did not?\")\n",
    "print(\"2. How many that survived were female and how many that died were female.\")\n",
    "print(\"3. How many children were on the titanic, NB: you are a child if age < 17.\")\n",
    "print(\"4. How many children died that were on the ship.\")\n",
    "print(\"5. How many people had families with them.\")\n",
    "print(\"6. How many embarked at Cherbourg, Queenstown and Southampton.\")\n",
    "print(\"7. What is the ratio of female to male.\")\n",
    "print(\"8. What contributed to the survival of those who survived.\")\n",
    "print(\"9. Wat are the characteristics of those who survived, what did they have in common.\")\n",
    "print(\"10. How many were 1st, 2nd and 3rd class.\")\n",
    "print(\"11. Did the ticket class determine their survival.\")"
   ]
  },
  {
   "cell_type": "code",
   "execution_count": 16,
   "metadata": {},
   "outputs": [
    {
     "name": "stdout",
     "output_type": "stream",
     "text": [
      "Created on Sat Feb 17 14:28:34 2018\n",
      "@author: Thabang I. Phefo\n",
      "@company: PBTGroup Academy\n",
      "@Date: 19 / 02 / 2018\n",
      "This is a Final Project from the Udacity 'Intro into Data Analysis' Course and submitted to the PBTGroup Academy. Due to the nature of the dataset that I chose, it only allowed me to perform the following functions based onthe questions I asked, and they were answered using the data. Should more questions arise they can be easily answered\n"
     ]
    }
   ],
   "source": [
    "# -*- coding: utf-8 -*-\n",
    "\n",
    "print(\"Created on Sat Feb 17 14:28:34 2018\")\n",
    "\n",
    "print(\"@author: Thabang I. Phefo\")\n",
    "print(\"@company: PBTGroup Academy\")\n",
    "print(\"@Date: 19 / 02 / 2018\")\n",
    "\n",
    "print(\"This is a Final Project from the Udacity 'Intro into Data Analysis' Course and submitted to the PBTGroup Academy. Due to the nature of the dataset that I chose, \\\n",
    "it only allowed me to perform the following functions based on\\\n",
    "the questions I asked, and they were answered using the data. Should more questions arise they can be easily answered\")\n",
    "\n",
    "# Import libraries needed to be used"
   ]
  },
  {
   "cell_type": "code",
   "execution_count": 20,
   "metadata": {},
   "outputs": [],
   "source": [
    "import pandas as pd\n",
    "from pandas import DataFrame\n",
    "import numpy as np\n",
    "import matplotlib.pyplot as plt\n",
    "import seaborn as sns"
   ]
  },
  {
   "cell_type": "code",
   "execution_count": 21,
   "metadata": {},
   "outputs": [
    {
     "data": {
      "text/html": [
       "<div>\n",
       "<style>\n",
       "    .dataframe thead tr:only-child th {\n",
       "        text-align: right;\n",
       "    }\n",
       "\n",
       "    .dataframe thead th {\n",
       "        text-align: left;\n",
       "    }\n",
       "\n",
       "    .dataframe tbody tr th {\n",
       "        vertical-align: top;\n",
       "    }\n",
       "</style>\n",
       "<table border=\"1\" class=\"dataframe\">\n",
       "  <thead>\n",
       "    <tr style=\"text-align: right;\">\n",
       "      <th></th>\n",
       "      <th>PassengerId</th>\n",
       "      <th>Survived</th>\n",
       "      <th>Pclass</th>\n",
       "      <th>Name</th>\n",
       "      <th>Sex</th>\n",
       "      <th>Age</th>\n",
       "      <th>SibSp</th>\n",
       "      <th>Parch</th>\n",
       "      <th>Ticket</th>\n",
       "      <th>Fare</th>\n",
       "      <th>Cabin</th>\n",
       "      <th>Embarked</th>\n",
       "    </tr>\n",
       "  </thead>\n",
       "  <tbody>\n",
       "    <tr>\n",
       "      <th>0</th>\n",
       "      <td>1</td>\n",
       "      <td>0</td>\n",
       "      <td>3</td>\n",
       "      <td>Braund, Mr. Owen Harris</td>\n",
       "      <td>male</td>\n",
       "      <td>22.0</td>\n",
       "      <td>1</td>\n",
       "      <td>0</td>\n",
       "      <td>A/5 21171</td>\n",
       "      <td>7.2500</td>\n",
       "      <td>NaN</td>\n",
       "      <td>S</td>\n",
       "    </tr>\n",
       "    <tr>\n",
       "      <th>1</th>\n",
       "      <td>2</td>\n",
       "      <td>1</td>\n",
       "      <td>1</td>\n",
       "      <td>Cumings, Mrs. John Bradley (Florence Briggs Th...</td>\n",
       "      <td>female</td>\n",
       "      <td>38.0</td>\n",
       "      <td>1</td>\n",
       "      <td>0</td>\n",
       "      <td>PC 17599</td>\n",
       "      <td>71.2833</td>\n",
       "      <td>C85</td>\n",
       "      <td>C</td>\n",
       "    </tr>\n",
       "    <tr>\n",
       "      <th>2</th>\n",
       "      <td>3</td>\n",
       "      <td>1</td>\n",
       "      <td>3</td>\n",
       "      <td>Heikkinen, Miss. Laina</td>\n",
       "      <td>female</td>\n",
       "      <td>26.0</td>\n",
       "      <td>0</td>\n",
       "      <td>0</td>\n",
       "      <td>STON/O2. 3101282</td>\n",
       "      <td>7.9250</td>\n",
       "      <td>NaN</td>\n",
       "      <td>S</td>\n",
       "    </tr>\n",
       "    <tr>\n",
       "      <th>3</th>\n",
       "      <td>4</td>\n",
       "      <td>1</td>\n",
       "      <td>1</td>\n",
       "      <td>Futrelle, Mrs. Jacques Heath (Lily May Peel)</td>\n",
       "      <td>female</td>\n",
       "      <td>35.0</td>\n",
       "      <td>1</td>\n",
       "      <td>0</td>\n",
       "      <td>113803</td>\n",
       "      <td>53.1000</td>\n",
       "      <td>C123</td>\n",
       "      <td>S</td>\n",
       "    </tr>\n",
       "    <tr>\n",
       "      <th>4</th>\n",
       "      <td>5</td>\n",
       "      <td>0</td>\n",
       "      <td>3</td>\n",
       "      <td>Allen, Mr. William Henry</td>\n",
       "      <td>male</td>\n",
       "      <td>35.0</td>\n",
       "      <td>0</td>\n",
       "      <td>0</td>\n",
       "      <td>373450</td>\n",
       "      <td>8.0500</td>\n",
       "      <td>NaN</td>\n",
       "      <td>S</td>\n",
       "    </tr>\n",
       "    <tr>\n",
       "      <th>5</th>\n",
       "      <td>6</td>\n",
       "      <td>0</td>\n",
       "      <td>3</td>\n",
       "      <td>Moran, Mr. James</td>\n",
       "      <td>male</td>\n",
       "      <td>NaN</td>\n",
       "      <td>0</td>\n",
       "      <td>0</td>\n",
       "      <td>330877</td>\n",
       "      <td>8.4583</td>\n",
       "      <td>NaN</td>\n",
       "      <td>Q</td>\n",
       "    </tr>\n",
       "    <tr>\n",
       "      <th>6</th>\n",
       "      <td>7</td>\n",
       "      <td>0</td>\n",
       "      <td>1</td>\n",
       "      <td>McCarthy, Mr. Timothy J</td>\n",
       "      <td>male</td>\n",
       "      <td>54.0</td>\n",
       "      <td>0</td>\n",
       "      <td>0</td>\n",
       "      <td>17463</td>\n",
       "      <td>51.8625</td>\n",
       "      <td>E46</td>\n",
       "      <td>S</td>\n",
       "    </tr>\n",
       "    <tr>\n",
       "      <th>7</th>\n",
       "      <td>8</td>\n",
       "      <td>0</td>\n",
       "      <td>3</td>\n",
       "      <td>Palsson, Master. Gosta Leonard</td>\n",
       "      <td>male</td>\n",
       "      <td>2.0</td>\n",
       "      <td>3</td>\n",
       "      <td>1</td>\n",
       "      <td>349909</td>\n",
       "      <td>21.0750</td>\n",
       "      <td>NaN</td>\n",
       "      <td>S</td>\n",
       "    </tr>\n",
       "    <tr>\n",
       "      <th>8</th>\n",
       "      <td>9</td>\n",
       "      <td>1</td>\n",
       "      <td>3</td>\n",
       "      <td>Johnson, Mrs. Oscar W (Elisabeth Vilhelmina Berg)</td>\n",
       "      <td>female</td>\n",
       "      <td>27.0</td>\n",
       "      <td>0</td>\n",
       "      <td>2</td>\n",
       "      <td>347742</td>\n",
       "      <td>11.1333</td>\n",
       "      <td>NaN</td>\n",
       "      <td>S</td>\n",
       "    </tr>\n",
       "    <tr>\n",
       "      <th>9</th>\n",
       "      <td>10</td>\n",
       "      <td>1</td>\n",
       "      <td>2</td>\n",
       "      <td>Nasser, Mrs. Nicholas (Adele Achem)</td>\n",
       "      <td>female</td>\n",
       "      <td>14.0</td>\n",
       "      <td>1</td>\n",
       "      <td>0</td>\n",
       "      <td>237736</td>\n",
       "      <td>30.0708</td>\n",
       "      <td>NaN</td>\n",
       "      <td>C</td>\n",
       "    </tr>\n",
       "  </tbody>\n",
       "</table>\n",
       "</div>"
      ],
      "text/plain": [
       "   PassengerId  Survived  Pclass  \\\n",
       "0            1         0       3   \n",
       "1            2         1       1   \n",
       "2            3         1       3   \n",
       "3            4         1       1   \n",
       "4            5         0       3   \n",
       "5            6         0       3   \n",
       "6            7         0       1   \n",
       "7            8         0       3   \n",
       "8            9         1       3   \n",
       "9           10         1       2   \n",
       "\n",
       "                                                Name     Sex   Age  SibSp  \\\n",
       "0                            Braund, Mr. Owen Harris    male  22.0      1   \n",
       "1  Cumings, Mrs. John Bradley (Florence Briggs Th...  female  38.0      1   \n",
       "2                             Heikkinen, Miss. Laina  female  26.0      0   \n",
       "3       Futrelle, Mrs. Jacques Heath (Lily May Peel)  female  35.0      1   \n",
       "4                           Allen, Mr. William Henry    male  35.0      0   \n",
       "5                                   Moran, Mr. James    male   NaN      0   \n",
       "6                            McCarthy, Mr. Timothy J    male  54.0      0   \n",
       "7                     Palsson, Master. Gosta Leonard    male   2.0      3   \n",
       "8  Johnson, Mrs. Oscar W (Elisabeth Vilhelmina Berg)  female  27.0      0   \n",
       "9                Nasser, Mrs. Nicholas (Adele Achem)  female  14.0      1   \n",
       "\n",
       "   Parch            Ticket     Fare Cabin Embarked  \n",
       "0      0         A/5 21171   7.2500   NaN        S  \n",
       "1      0          PC 17599  71.2833   C85        C  \n",
       "2      0  STON/O2. 3101282   7.9250   NaN        S  \n",
       "3      0            113803  53.1000  C123        S  \n",
       "4      0            373450   8.0500   NaN        S  \n",
       "5      0            330877   8.4583   NaN        Q  \n",
       "6      0             17463  51.8625   E46        S  \n",
       "7      1            349909  21.0750   NaN        S  \n",
       "8      2            347742  11.1333   NaN        S  \n",
       "9      0            237736  30.0708   NaN        C  "
      ]
     },
     "execution_count": 21,
     "metadata": {},
     "output_type": "execute_result"
    }
   ],
   "source": [
    "# get and open the file, show 10 rows as a sample\n",
    "\n",
    "data_set = pd.read_csv('titanic_data.csv')\n",
    "data_set.head(10)"
   ]
  },
  {
   "cell_type": "code",
   "execution_count": 22,
   "metadata": {},
   "outputs": [],
   "source": [
    "passengers = data_set['PassengerId'].max() #number of passengers on the ship"
   ]
  },
  {
   "cell_type": "code",
   "execution_count": 23,
   "metadata": {},
   "outputs": [
    {
     "name": "stdout",
     "output_type": "stream",
     "text": [
      "891\n"
     ]
    }
   ],
   "source": [
    "print (passengers)"
   ]
  },
  {
   "cell_type": "code",
   "execution_count": 10,
   "metadata": {},
   "outputs": [
    {
     "data": {
      "text/html": [
       "<div>\n",
       "<style>\n",
       "    .dataframe thead tr:only-child th {\n",
       "        text-align: right;\n",
       "    }\n",
       "\n",
       "    .dataframe thead th {\n",
       "        text-align: left;\n",
       "    }\n",
       "\n",
       "    .dataframe tbody tr th {\n",
       "        vertical-align: top;\n",
       "    }\n",
       "</style>\n",
       "<table border=\"1\" class=\"dataframe\">\n",
       "  <thead>\n",
       "    <tr style=\"text-align: right;\">\n",
       "      <th></th>\n",
       "      <th>PassengerId</th>\n",
       "      <th>Survived</th>\n",
       "      <th>Pclass</th>\n",
       "      <th>Name</th>\n",
       "      <th>Sex</th>\n",
       "      <th>Age</th>\n",
       "      <th>SibSp</th>\n",
       "      <th>Parch</th>\n",
       "      <th>Ticket</th>\n",
       "      <th>Fare</th>\n",
       "      <th>Cabin</th>\n",
       "      <th>Embarked</th>\n",
       "    </tr>\n",
       "  </thead>\n",
       "  <tbody>\n",
       "    <tr>\n",
       "      <th>873</th>\n",
       "      <td>874</td>\n",
       "      <td>0</td>\n",
       "      <td>3</td>\n",
       "      <td>Vander Cruyssen, Mr. Victor</td>\n",
       "      <td>male</td>\n",
       "      <td>47.0</td>\n",
       "      <td>0</td>\n",
       "      <td>0</td>\n",
       "      <td>345765</td>\n",
       "      <td>9.0000</td>\n",
       "      <td>NaN</td>\n",
       "      <td>S</td>\n",
       "    </tr>\n",
       "    <tr>\n",
       "      <th>876</th>\n",
       "      <td>877</td>\n",
       "      <td>0</td>\n",
       "      <td>3</td>\n",
       "      <td>Gustafsson, Mr. Alfred Ossian</td>\n",
       "      <td>male</td>\n",
       "      <td>20.0</td>\n",
       "      <td>0</td>\n",
       "      <td>0</td>\n",
       "      <td>7534</td>\n",
       "      <td>9.8458</td>\n",
       "      <td>NaN</td>\n",
       "      <td>S</td>\n",
       "    </tr>\n",
       "    <tr>\n",
       "      <th>877</th>\n",
       "      <td>878</td>\n",
       "      <td>0</td>\n",
       "      <td>3</td>\n",
       "      <td>Petroff, Mr. Nedelio</td>\n",
       "      <td>male</td>\n",
       "      <td>19.0</td>\n",
       "      <td>0</td>\n",
       "      <td>0</td>\n",
       "      <td>349212</td>\n",
       "      <td>7.8958</td>\n",
       "      <td>NaN</td>\n",
       "      <td>S</td>\n",
       "    </tr>\n",
       "    <tr>\n",
       "      <th>878</th>\n",
       "      <td>879</td>\n",
       "      <td>0</td>\n",
       "      <td>3</td>\n",
       "      <td>Laleff, Mr. Kristo</td>\n",
       "      <td>male</td>\n",
       "      <td>NaN</td>\n",
       "      <td>0</td>\n",
       "      <td>0</td>\n",
       "      <td>349217</td>\n",
       "      <td>7.8958</td>\n",
       "      <td>NaN</td>\n",
       "      <td>S</td>\n",
       "    </tr>\n",
       "    <tr>\n",
       "      <th>881</th>\n",
       "      <td>882</td>\n",
       "      <td>0</td>\n",
       "      <td>3</td>\n",
       "      <td>Markun, Mr. Johann</td>\n",
       "      <td>male</td>\n",
       "      <td>33.0</td>\n",
       "      <td>0</td>\n",
       "      <td>0</td>\n",
       "      <td>349257</td>\n",
       "      <td>7.8958</td>\n",
       "      <td>NaN</td>\n",
       "      <td>S</td>\n",
       "    </tr>\n",
       "    <tr>\n",
       "      <th>883</th>\n",
       "      <td>884</td>\n",
       "      <td>0</td>\n",
       "      <td>2</td>\n",
       "      <td>Banfield, Mr. Frederick James</td>\n",
       "      <td>male</td>\n",
       "      <td>28.0</td>\n",
       "      <td>0</td>\n",
       "      <td>0</td>\n",
       "      <td>C.A./SOTON 34068</td>\n",
       "      <td>10.5000</td>\n",
       "      <td>NaN</td>\n",
       "      <td>S</td>\n",
       "    </tr>\n",
       "    <tr>\n",
       "      <th>884</th>\n",
       "      <td>885</td>\n",
       "      <td>0</td>\n",
       "      <td>3</td>\n",
       "      <td>Sutehall, Mr. Henry Jr</td>\n",
       "      <td>male</td>\n",
       "      <td>25.0</td>\n",
       "      <td>0</td>\n",
       "      <td>0</td>\n",
       "      <td>SOTON/OQ 392076</td>\n",
       "      <td>7.0500</td>\n",
       "      <td>NaN</td>\n",
       "      <td>S</td>\n",
       "    </tr>\n",
       "    <tr>\n",
       "      <th>886</th>\n",
       "      <td>887</td>\n",
       "      <td>0</td>\n",
       "      <td>2</td>\n",
       "      <td>Montvila, Rev. Juozas</td>\n",
       "      <td>male</td>\n",
       "      <td>27.0</td>\n",
       "      <td>0</td>\n",
       "      <td>0</td>\n",
       "      <td>211536</td>\n",
       "      <td>13.0000</td>\n",
       "      <td>NaN</td>\n",
       "      <td>S</td>\n",
       "    </tr>\n",
       "    <tr>\n",
       "      <th>889</th>\n",
       "      <td>890</td>\n",
       "      <td>1</td>\n",
       "      <td>1</td>\n",
       "      <td>Behr, Mr. Karl Howell</td>\n",
       "      <td>male</td>\n",
       "      <td>26.0</td>\n",
       "      <td>0</td>\n",
       "      <td>0</td>\n",
       "      <td>111369</td>\n",
       "      <td>30.0000</td>\n",
       "      <td>C148</td>\n",
       "      <td>C</td>\n",
       "    </tr>\n",
       "    <tr>\n",
       "      <th>890</th>\n",
       "      <td>891</td>\n",
       "      <td>0</td>\n",
       "      <td>3</td>\n",
       "      <td>Dooley, Mr. Patrick</td>\n",
       "      <td>male</td>\n",
       "      <td>32.0</td>\n",
       "      <td>0</td>\n",
       "      <td>0</td>\n",
       "      <td>370376</td>\n",
       "      <td>7.7500</td>\n",
       "      <td>NaN</td>\n",
       "      <td>Q</td>\n",
       "    </tr>\n",
       "  </tbody>\n",
       "</table>\n",
       "</div>"
      ],
      "text/plain": [
       "     PassengerId  Survived  Pclass                           Name   Sex   Age  \\\n",
       "873          874         0       3    Vander Cruyssen, Mr. Victor  male  47.0   \n",
       "876          877         0       3  Gustafsson, Mr. Alfred Ossian  male  20.0   \n",
       "877          878         0       3           Petroff, Mr. Nedelio  male  19.0   \n",
       "878          879         0       3             Laleff, Mr. Kristo  male   NaN   \n",
       "881          882         0       3             Markun, Mr. Johann  male  33.0   \n",
       "883          884         0       2  Banfield, Mr. Frederick James  male  28.0   \n",
       "884          885         0       3         Sutehall, Mr. Henry Jr  male  25.0   \n",
       "886          887         0       2          Montvila, Rev. Juozas  male  27.0   \n",
       "889          890         1       1          Behr, Mr. Karl Howell  male  26.0   \n",
       "890          891         0       3            Dooley, Mr. Patrick  male  32.0   \n",
       "\n",
       "     SibSp  Parch            Ticket     Fare Cabin Embarked  \n",
       "873      0      0            345765   9.0000   NaN        S  \n",
       "876      0      0              7534   9.8458   NaN        S  \n",
       "877      0      0            349212   7.8958   NaN        S  \n",
       "878      0      0            349217   7.8958   NaN        S  \n",
       "881      0      0            349257   7.8958   NaN        S  \n",
       "883      0      0  C.A./SOTON 34068  10.5000   NaN        S  \n",
       "884      0      0   SOTON/OQ 392076   7.0500   NaN        S  \n",
       "886      0      0            211536  13.0000   NaN        S  \n",
       "889      0      0            111369  30.0000  C148        C  \n",
       "890      0      0            370376   7.7500   NaN        Q  "
      ]
     },
     "execution_count": 10,
     "metadata": {},
     "output_type": "execute_result"
    }
   ],
   "source": [
    "# male passengers\n",
    "\n",
    "male_passengers = data_set.loc[(data_set['Sex'] == 'male')]\n",
    "male_passengers.tail(10)"
   ]
  },
  {
   "cell_type": "code",
   "execution_count": 56,
   "metadata": {},
   "outputs": [
    {
     "name": "stdout",
     "output_type": "stream",
     "text": [
      "The number of Male passengers was: 577\n"
     ]
    }
   ],
   "source": [
    "male_passengers = len(data_set.loc[(data_set['Sex'] == 'male')])\n",
    "print (\"The number of Male passengers was:\",male_passengers)"
   ]
  },
  {
   "cell_type": "code",
   "execution_count": 12,
   "metadata": {},
   "outputs": [],
   "source": [
    "female_passengers = data_set.loc[(data_set['Sex'] == 'female')]\n",
    "children = data_set.loc[(data_set['Age'] <= 17)]\n",
    "p_died = data_set.loc[(data_set['Survived'] == 0)]\n",
    "p_survived = data_set.loc[(data_set['Survived'] == 1)]\n",
    "tot_fare = np.round(data_set['Fare'].sum(),3)\n",
    "child_deaths = data_set.loc[(data_set['Age'] <= 17) & (data_set['Survived'] == 0)]\n",
    "f_survived = data_set.loc[(data_set['Sex'] == 'female') & (data_set['Survived'] == 1)]\n",
    "f_deaths = data_set.loc[(data_set['Sex'] == 'female') & (data_set['Survived'] == 0)]\n",
    "m_survived = data_set.loc[(data_set['Sex'] == 'male') & (data_set['Survived'] == 1)]\n",
    "m_deaths = data_set.loc[(data_set['Sex'] == 'male') & (data_set['Survived'] == 0)]\n",
    "families_num = data_set.loc[(data_set['SibSp'] > 0)]"
   ]
  },
  {
   "cell_type": "code",
   "execution_count": 14,
   "metadata": {},
   "outputs": [
    {
     "name": "stdout",
     "output_type": "stream",
     "text": [
      "The Titanic Story using the Titanic Data Set provided, Please enjoy:\n",
      "Titanic :\n"
     ]
    }
   ],
   "source": [
    "print ('The Titanic Story using the Titanic Data Set provided, Please enjoy:\\nTitanic :')\n",
    "\n",
    "passengers = data_set['PassengerId'].max() #number of passengers on the ship\n",
    "# Male and Female passengers\n",
    "male_passengers = len(data_set.loc[(data_set['Sex'] == 'male')]) \n",
    "female_passengers = len(data_set.loc[(data_set['Sex'] == 'female')])\n",
    "\n",
    "# Number pf children on the ship. NB You are a child when you are Age < 17\n",
    "children = len(data_set.loc[(data_set['Age'] <= 17)])\n",
    "\n",
    "# Number of passengers who passed and survived\n",
    "p_died = len(data_set.loc[(data_set['Survived'] == 0)])\n",
    "p_survived = len(data_set.loc[(data_set['Survived'] == 1)])\n",
    "\n",
    "# Total fare paid\n",
    "tot_fare = np.round(data_set['Fare'].sum(),3)\n",
    "\n",
    "# Number Children who passed\n",
    "child_deaths = len(data_set.loc[(data_set['Age'] <= 17) & (data_set['Survived'] == 0)])\n",
    "\n",
    "# female and male survivors vs female and male passes\n",
    "f_survived = len(data_set.loc[(data_set['Sex'] == 'female') & (data_set['Survived'] == 1)])\n",
    "f_deaths = len(data_set.loc[(data_set['Sex'] == 'female') & (data_set['Survived'] == 0)])\n",
    "m_survived = len(data_set.loc[(data_set['Sex'] == 'male') & (data_set['Survived'] == 1)])\n",
    "m_deaths = len(data_set.loc[(data_set['Sex'] == 'male') & (data_set['Survived'] == 0)])\n",
    "\n",
    "# Number of passengers with families\n",
    "families_num = len(data_set.loc[(data_set['SibSp'] > 0)])\n"
   ]
  },
  {
   "cell_type": "code",
   "execution_count": 15,
   "metadata": {},
   "outputs": [
    {
     "name": "stdout",
     "output_type": "stream",
     "text": [
      "The ratio of Men to Woman is: 2\n",
      "Survived females: 233\n",
      "Female deaths: 81\n",
      "Survived males: 109\n",
      "Male deaths: 468\n"
     ]
    }
   ],
   "source": [
    "ratio_m_to_f = round((male_passengers/female_passengers))\n",
    "print ('The ratio of Men to Woman is:',ratio_m_to_f)\n",
    "print ('Survived females:',f_survived)\n",
    "print ('Female deaths:',f_deaths)\n",
    "print ('Survived males:',m_survived)\n",
    "print ('Male deaths:',m_deaths)"
   ]
  },
  {
   "cell_type": "code",
   "execution_count": 45,
   "metadata": {},
   "outputs": [
    {
     "name": "stdout",
     "output_type": "stream",
     "text": [
      "RMS Titanic was a British passenger liner that sank in the North Atlantic Ocean in the early morning hours of 15 April 1912, after it collided with an iceberg during its maiden voyage from Southampton to New York City.\n",
      "\n",
      "The Titanic had 891 Passengers onboard. There were 577 Male and 314 Female Passengers on the ship of which 113 were children of under the age of 17. It was an unfortunate tragic when 549 passengers died and only 342 survived. So many people lost their families, their loved ones, 52 children died. A total of 28693.949 dollars was paid. About 283 passengers were with thier familes.\n"
     ]
    }
   ],
   "source": [
    "print ('RMS Titanic was a British passenger liner that sank in the North Atlantic Ocean\\\n",
    " in the early morning hours of 15 April 1912, after it collided with an iceberg during its maiden voyage\\\n",
    " from Southampton to New York City.\\n')\n",
    "print ('The Titanic had {} Passengers onboard. There were {} Male and {} Female Passengers on the ship of \\\n",
    "which {} were children of under the age of 17. It was an unfortunate tragic when {} passengers died \\\n",
    "and only {} survived. So many people lost their families, their loved ones, {} children died.\\\n",
    " A total of {} dollars was paid. About {} passengers were with thier familes.\\\n",
    "'.format(passengers,male_passengers,female_passengers, children,p_died, p_survived,child_deaths,tot_fare, families_num))\n"
   ]
  },
  {
   "cell_type": "code",
   "execution_count": 18,
   "metadata": {},
   "outputs": [],
   "source": [
    "data = [passengers]\n",
    "data1 = [male_passengers,female_passengers]\n",
    "data2 = [p_survived,p_died]\n",
    "data3 = [f_survived,f_deaths,m_survived,m_deaths]\n",
    "data4 = [f_survived,m_survived]\n",
    "data5 = [f_deaths,m_deaths]"
   ]
  },
  {
   "cell_type": "code",
   "execution_count": 54,
   "metadata": {},
   "outputs": [
    {
     "name": "stdout",
     "output_type": "stream",
     "text": [
      "The number of passengers on the ship was: 891\n"
     ]
    }
   ],
   "source": [
    "print ('The number of passengers on the ship was:',passengers)"
   ]
  },
  {
   "cell_type": "code",
   "execution_count": 44,
   "metadata": {},
   "outputs": [
    {
     "data": {
      "image/png": "[encoded data removed]",
      "text/plain": [
       "<matplotlib.figure.Figure at 0x7f459fd1a3c8>"
      ]
     },
     "metadata": {},
     "output_type": "display_data"
    }
   ],
   "source": [
    "\n",
    "objects = ('Male Passenger','Female Passenger')\n",
    "y_pos = np.arange(len(objects))\n",
    "performance = [male_passengers,female_passengers]\n",
    " \n",
    "plt.bar(y_pos, performance, align='center', alpha=0.5)\n",
    "plt.xticks(y_pos, objects)\n",
    "plt.ylabel('Total Number')\n",
    "plt.title('Male and Female Passengers')\n",
    " \n",
    "plt.show()"
   ]
  },
  {
   "cell_type": "code",
   "execution_count": 43,
   "metadata": {},
   "outputs": [
    {
     "data": {
      "image/png": "[encoded data removed]",
      "text/plain": [
       "<matplotlib.figure.Figure at 0x7f459fe03eb8>"
      ]
     },
     "metadata": {},
     "output_type": "display_data"
    }
   ],
   "source": [
    "# Number of passenger surival to passenger deaths\n",
    "objects = ('Passenger Survival','Passenger Death')\n",
    "y_pos = np.arange(len(objects))\n",
    "performance = [p_survived,p_died]\n",
    " \n",
    "plt.bar(y_pos, performance, align='center', alpha=0.5)\n",
    "plt.xticks(y_pos, objects)\n",
    "plt.ylabel('Total Number')\n",
    "plt.title('Passenger Survival and Deaths')\n",
    " \n",
    "plt.show()"
   ]
  },
  {
   "cell_type": "code",
   "execution_count": 47,
   "metadata": {},
   "outputs": [
    {
     "data": {
      "image/png": "[encoded data removed]",
      "text/plain": [
       "<matplotlib.figure.Figure at 0x7f459ff5e588>"
      ]
     },
     "metadata": {},
     "output_type": "display_data"
    }
   ],
   "source": [
    "\n",
    "objects = ('Male Survival','Female Survival', 'Male Deaths', 'Female Deaths')\n",
    "y_pos = np.arange(len(objects))\n",
    "performance = [m_survived,f_survived,m_deaths,f_deaths]\n",
    " \n",
    "plt.bar(y_pos, performance, align='center', alpha=0.5)\n",
    "plt.xticks(y_pos, objects)\n",
    "plt.ylabel('Total Number')\n",
    "plt.title('Male and Female Survival and Deaths')\n",
    " \n",
    "plt.show()"
   ]
  },
  {
   "cell_type": "code",
   "execution_count": 25,
   "metadata": {},
   "outputs": [
    {
     "data": {
      "image/png": "[encoded data removed]",
      "text/plain": [
       "<matplotlib.figure.Figure at 0x7f459fb3fbe0>"
      ]
     },
     "metadata": {},
     "output_type": "display_data"
    }
   ],
   "source": [
    "plt.xlabel('Number of Deaths VS Number of Survivals')\n",
    "plt.ylabel('Total')\n",
    "plt.title('Male and Female That Survived and Died')\n",
    "plt.plot(data4, label = 'Survived Male and Female')\n",
    "#plt.show()\n",
    "plt.plot(data5, label = 'Male and Female That Died')\n",
    "plt.legend()\n",
    "plt.show()"
   ]
  },
  {
   "cell_type": "code",
   "execution_count": 48,
   "metadata": {},
   "outputs": [
    {
     "name": "stdout",
     "output_type": "stream",
     "text": [
      "This graphs shows that for an increase in passenger deaths, there was an decrease in the survival rate\n"
     ]
    }
   ],
   "source": [
    "print ('This graphs shows that for an increase in passenger deaths, there was an decrease in the survival rate')\n",
    "\n"
   ]
  },
  {
   "cell_type": "code",
   "execution_count": 49,
   "metadata": {},
   "outputs": [
    {
     "name": "stdout",
     "output_type": "stream",
     "text": [
      "\n",
      "Although the largest and strongest ship ever made at the time fell, they could not save all due to the number of life boats not enough to accomodate all the passengers. The survivors were mostly woman and this shows womentook priority during the assembling of life boats while men stayed behind as most males that survived were children they too were taken first. First preferences to the survival of passengers was given to females and children.\n"
     ]
    }
   ],
   "source": [
    "print ('\\nAlthough the largest and strongest ship ever made at the time fell, they could not save all due to the number of \\\n",
    "life boats not enough to accomodate all the passengers. The survivors were mostly woman and this shows women\\\n",
    "took priority during the assembling of life boats while men stayed behind as most males that survived were children\\\n",
    " they too were taken first. First preferences to the survival of passengers was given to females and children.')"
   ]
  },
  {
   "cell_type": "code",
   "execution_count": null,
   "metadata": {},
   "outputs": [],
   "source": []
  }
 ],
 "metadata": {
  "kernelspec": {
   "display_name": "Python 2",
   "language": "python",
   "name": "python2"
  },
  "language_info": {
   "codemirror_mode": {
    "name": "ipython",
    "version": 2
   },
   "file_extension": ".py",
   "mimetype": "text/x-python",
   "name": "python",
   "nbconvert_exporter": "python",
   "pygments_lexer": "ipython2",
   "version": "2.7.14"
  }
 },
 "nbformat": 4,
 "nbformat_minor": 2
}
